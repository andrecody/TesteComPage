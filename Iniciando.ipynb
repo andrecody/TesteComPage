{
  "nbformat": 4,
  "nbformat_minor": 0,
  "metadata": {
    "colab": {
      "name": "Iniciando.ipynb",
      "provenance": [],
      "collapsed_sections": [],
      "authorship_tag": "ABX9TyM3ojHogG7VEKfnzdESN4Pc",
      "include_colab_link": true
    },
    "kernelspec": {
      "name": "python3",
      "display_name": "Python 3"
    },
    "language_info": {
      "name": "python"
    }
  },
  "cells": [
    {
      "cell_type": "markdown",
      "metadata": {
        "id": "view-in-github",
        "colab_type": "text"
      },
      "source": [
        "<a href=\"https://colab.research.google.com/github/andrecody/TesteComPage/blob/main/Iniciando.ipynb\" target=\"_parent\"><img src=\"https://colab.research.google.com/assets/colab-badge.svg\" alt=\"Open In Colab\"/></a>"
      ]
    },
    {
      "cell_type": "code",
      "execution_count": 1,
      "metadata": {
        "colab": {
          "base_uri": "https://localhost:8080/"
        },
        "id": "3zJ35fhPweSh",
        "outputId": "c9aa1475-b827-400f-c51a-e7d2533441a3"
      },
      "outputs": [
        {
          "name": "stdout",
          "output_type": "stream",
          "text": [
            "Informe um numero4\n"
          ]
        }
      ],
      "source": [
        "b = int(input(\"Informe um numero\"))\n"
      ]
    },
    {
      "cell_type": "code",
      "source": [
        "b = int(input(\"Informe um numero\"))"
      ],
      "metadata": {
        "colab": {
          "base_uri": "https://localhost:8080/",
          "height": 182
        },
        "id": "RSF4EpQExRN9",
        "outputId": "a19f347e-f737-49e2-c2ea-6351bcb28caa"
      },
      "execution_count": 3,
      "outputs": [
        {
          "name": "stdout",
          "output_type": "stream",
          "text": [
            "Informe um numero4.5\n"
          ]
        },
        {
          "output_type": "error",
          "ename": "ValueError",
          "evalue": "ignored",
          "traceback": [
            "\u001b[0;31m---------------------------------------------------------------------------\u001b[0m",
            "\u001b[0;31mValueError\u001b[0m                                Traceback (most recent call last)",
            "\u001b[0;32m<ipython-input-3-c79f24139c33>\u001b[0m in \u001b[0;36m<module>\u001b[0;34m()\u001b[0m\n\u001b[0;32m----> 1\u001b[0;31m \u001b[0mb\u001b[0m \u001b[0;34m=\u001b[0m \u001b[0mint\u001b[0m\u001b[0;34m(\u001b[0m\u001b[0minput\u001b[0m\u001b[0;34m(\u001b[0m\u001b[0;34m\"Informe um numero\"\u001b[0m\u001b[0;34m)\u001b[0m\u001b[0;34m)\u001b[0m\u001b[0;34m\u001b[0m\u001b[0;34m\u001b[0m\u001b[0m\n\u001b[0m",
            "\u001b[0;31mValueError\u001b[0m: invalid literal for int() with base 10: '4.5'"
          ]
        }
      ]
    },
    {
      "cell_type": "code",
      "source": [
        "print(b)"
      ],
      "metadata": {
        "colab": {
          "base_uri": "https://localhost:8080/"
        },
        "id": "mQ4DJPogw1sz",
        "outputId": "1de06836-a10c-49cb-ddee-1452a994d5b0"
      },
      "execution_count": 2,
      "outputs": [
        {
          "output_type": "stream",
          "name": "stdout",
          "text": [
            "4\n"
          ]
        }
      ]
    },
    {
      "cell_type": "code",
      "source": [
        "b = int(float(\"Informe um numero\"))\n"
      ],
      "metadata": {
        "colab": {
          "base_uri": "https://localhost:8080/",
          "height": 165
        },
        "id": "QdISu35KxedL",
        "outputId": "7ba9c4e4-4fc4-40bf-9e90-26f96225ccba"
      },
      "execution_count": 4,
      "outputs": [
        {
          "output_type": "error",
          "ename": "ValueError",
          "evalue": "ignored",
          "traceback": [
            "\u001b[0;31m---------------------------------------------------------------------------\u001b[0m",
            "\u001b[0;31mValueError\u001b[0m                                Traceback (most recent call last)",
            "\u001b[0;32m<ipython-input-4-43d6e70d3ea9>\u001b[0m in \u001b[0;36m<module>\u001b[0;34m()\u001b[0m\n\u001b[0;32m----> 1\u001b[0;31m \u001b[0mb\u001b[0m \u001b[0;34m=\u001b[0m \u001b[0mint\u001b[0m\u001b[0;34m(\u001b[0m\u001b[0mfloat\u001b[0m\u001b[0;34m(\u001b[0m\u001b[0;34m\"Informe um numero\"\u001b[0m\u001b[0;34m)\u001b[0m\u001b[0;34m)\u001b[0m\u001b[0;34m\u001b[0m\u001b[0;34m\u001b[0m\u001b[0m\n\u001b[0m",
            "\u001b[0;31mValueError\u001b[0m: could not convert string to float: 'Informe um numero'"
          ]
        }
      ]
    },
    {
      "cell_type": "code",
      "source": [
        "a = \"mackenzie\"\n",
        "a.capitalize()"
      ],
      "metadata": {
        "colab": {
          "base_uri": "https://localhost:8080/",
          "height": 36
        },
        "id": "tbOGvk2tyDRc",
        "outputId": "af7a214d-a7ed-4c14-8cc5-91457b0a9adc"
      },
      "execution_count": 5,
      "outputs": [
        {
          "output_type": "execute_result",
          "data": {
            "text/plain": [
              "'Mackenzie'"
            ],
            "application/vnd.google.colaboratory.intrinsic+json": {
              "type": "string"
            }
          },
          "metadata": {},
          "execution_count": 5
        }
      ]
    },
    {
      "cell_type": "code",
      "source": [
        "a = \"python versão 2.0\"\n",
        "a.isalnum()"
      ],
      "metadata": {
        "colab": {
          "base_uri": "https://localhost:8080/"
        },
        "id": "SfXYSyJQy8wh",
        "outputId": "35a9a712-ff08-4e64-c097-373d74c5f172"
      },
      "execution_count": 7,
      "outputs": [
        {
          "output_type": "execute_result",
          "data": {
            "text/plain": [
              "False"
            ]
          },
          "metadata": {},
          "execution_count": 7
        }
      ]
    },
    {
      "cell_type": "code",
      "source": [
        "s = \"python\"\n",
        "s[2:4]\n"
      ],
      "metadata": {
        "colab": {
          "base_uri": "https://localhost:8080/",
          "height": 36
        },
        "id": "shvgrUMp03dt",
        "outputId": "c74994df-26cc-486d-dfe0-41144f3a82d6"
      },
      "execution_count": 8,
      "outputs": [
        {
          "output_type": "execute_result",
          "data": {
            "text/plain": [
              "'th'"
            ],
            "application/vnd.google.colaboratory.intrinsic+json": {
              "type": "string"
            }
          },
          "metadata": {},
          "execution_count": 8
        }
      ]
    },
    {
      "cell_type": "code",
      "source": [
        "L = [3 , \"fusca\" , 8.1 , [4 , 6 , 8] , \"Python\" , (3 , \"W\")]"
      ],
      "metadata": {
        "id": "aAA_N0oE2u4a"
      },
      "execution_count": 9,
      "outputs": []
    },
    {
      "cell_type": "code",
      "source": [
        "print(L[3][1])"
      ],
      "metadata": {
        "colab": {
          "base_uri": "https://localhost:8080/"
        },
        "id": "5Iu3xzwc3_ss",
        "outputId": "20a01510-1be6-42a9-90e1-4ddced7aab22"
      },
      "execution_count": 10,
      "outputs": [
        {
          "output_type": "stream",
          "name": "stdout",
          "text": [
            "6\n"
          ]
        }
      ]
    },
    {
      "cell_type": "code",
      "source": [
        "print (L[0])\n",
        "print(L[3][1])"
      ],
      "metadata": {
        "colab": {
          "base_uri": "https://localhost:8080/"
        },
        "id": "WPzAF-Yt4HeV",
        "outputId": "48defa77-b79d-4385-8e6f-8fa30f3017f7"
      },
      "execution_count": 11,
      "outputs": [
        {
          "output_type": "stream",
          "name": "stdout",
          "text": [
            "3\n",
            "6\n"
          ]
        }
      ]
    },
    {
      "cell_type": "code",
      "source": [
        "D={\"arroz\": 17.30, \"feijão\":12.50,\"carne\":23.90,\"alface\":3.40}\n",
        "\n",
        "print(D)\n",
        "\n"
      ],
      "metadata": {
        "colab": {
          "base_uri": "https://localhost:8080/"
        },
        "id": "X_nXOGQS4QDY",
        "outputId": "5c60d4b9-9aa3-4284-9e21-85717d331ad3"
      },
      "execution_count": 13,
      "outputs": [
        {
          "output_type": "stream",
          "name": "stdout",
          "text": [
            "{'arroz': 17.3, 'feijão': 12.5, 'carne': 23.9, 'alface': 3.4}\n"
          ]
        }
      ]
    },
    {
      "cell_type": "code",
      "source": [
        "print(D[\"carne\"])\n",
        "print(D[“arroz\"])\n",
        "print(D[“abacaxi\"])\n"
      ],
      "metadata": {
        "colab": {
          "base_uri": "https://localhost:8080/",
          "height": 130
        },
        "id": "bWv49xKz6X9j",
        "outputId": "33aa9eda-b703-46c0-9cf8-e49c15a4617a"
      },
      "execution_count": 14,
      "outputs": [
        {
          "output_type": "error",
          "ename": "SyntaxError",
          "evalue": "ignored",
          "traceback": [
            "\u001b[0;36m  File \u001b[0;32m\"<ipython-input-14-134339a81325>\"\u001b[0;36m, line \u001b[0;32m2\u001b[0m\n\u001b[0;31m    print(D[“arroz\"])\u001b[0m\n\u001b[0m                 ^\u001b[0m\n\u001b[0;31mSyntaxError\u001b[0m\u001b[0;31m:\u001b[0m invalid character in identifier\n"
          ]
        }
      ]
    },
    {
      "cell_type": "code",
      "source": [
        "D={\"Salgado\": 4.50, \"lanche\":6.50,\"suco\":23.90,\"refrigerante\":3.50, \"doce\": 1.00}\n",
        "print(D)\n",
        "print(D.keys())\n",
        "print(D.values)\n",
        "print(str(sum(D.values())))\n",
        "print(max(D.values()))\n",
        "print(min(D.values()))\n",
        "print(max(D.values())-min(D.values()))\n",
        "print(D.items)"
      ],
      "metadata": {
        "colab": {
          "base_uri": "https://localhost:8080/"
        },
        "id": "6956jUZd6eLp",
        "outputId": "a3129b6c-6ef8-44f0-f801-3087197e41b2"
      },
      "execution_count": 20,
      "outputs": [
        {
          "output_type": "stream",
          "name": "stdout",
          "text": [
            "{'Salgado': 4.5, 'lanche': 6.5, 'suco': 23.9, 'refrigerante': 3.5, 'doce': 1.0}\n",
            "dict_keys(['Salgado', 'lanche', 'suco', 'refrigerante', 'doce'])\n",
            "<built-in method values of dict object at 0x7fb64e7b96e0>\n",
            "39.4\n",
            "23.9\n",
            "1.0\n",
            "22.9\n",
            "<built-in method items of dict object at 0x7fb64e7b96e0>\n"
          ]
        }
      ]
    },
    {
      "cell_type": "code",
      "source": [
        "a = 10\n",
        "b = 15\n",
        "if a>b:\n",
        "  print(\"A é maior que B\")\n",
        "else:\n",
        "  print(\"B é maior que A\")  "
      ],
      "metadata": {
        "colab": {
          "base_uri": "https://localhost:8080/"
        },
        "id": "HC2mkky1-YsS",
        "outputId": "e6083362-4f8d-4017-d182-66ec16cf18bd"
      },
      "execution_count": 25,
      "outputs": [
        {
          "output_type": "stream",
          "name": "stdout",
          "text": [
            "B é maior que A\n"
          ]
        }
      ]
    },
    {
      "cell_type": "code",
      "source": [
        "senhagravada = \"eujoaquim\"\n",
        "senhalida =\" \"\n",
        "while (senhalida != senhagravada):\n",
        "  senhalida = input(\"Digite a senha: \")\n",
        "if senhalida == senhagravada :\n",
        "  print('Acesso liberado ')\n",
        "else:\n",
        "  print('Senha incorreta. Tente novamente')"
      ],
      "metadata": {
        "colab": {
          "base_uri": "https://localhost:8080/"
        },
        "id": "cPos5XjXClex",
        "outputId": "2ff34117-4689-4f52-f87c-38ff475883bc"
      },
      "execution_count": 27,
      "outputs": [
        {
          "output_type": "stream",
          "name": "stdout",
          "text": [
            "Digite a senha: asas\n",
            "Digite a senha: eujoaquim\n",
            "Acesso liberado \n"
          ]
        }
      ]
    },
    {
      "cell_type": "code",
      "source": [
        "# Usada como acumulador\n",
        "S=0\n",
        "for x in range(0,50,2):\n",
        "  print('Elemento: ',x)\n",
        "  S = S+x\n",
        "print('Soma = ',S)\n",
        "# Usada como acumulador\n",
        "S=0\n",
        "for x in range(1,50,2):\n",
        "  print('Elemento: ',x)\n",
        "  S = S+x\n",
        "print('Soma = ',S)"
      ],
      "metadata": {
        "colab": {
          "base_uri": "https://localhost:8080/"
        },
        "id": "xv38zQ1tEn0r",
        "outputId": "1f4d30c2-fd87-4e37-e73d-d86bb559e833"
      },
      "execution_count": 29,
      "outputs": [
        {
          "output_type": "stream",
          "name": "stdout",
          "text": [
            "Elemento:  0\n",
            "Elemento:  2\n",
            "Elemento:  4\n",
            "Elemento:  6\n",
            "Elemento:  8\n",
            "Elemento:  10\n",
            "Elemento:  12\n",
            "Elemento:  14\n",
            "Elemento:  16\n",
            "Elemento:  18\n",
            "Elemento:  20\n",
            "Elemento:  22\n",
            "Elemento:  24\n",
            "Elemento:  26\n",
            "Elemento:  28\n",
            "Elemento:  30\n",
            "Elemento:  32\n",
            "Elemento:  34\n",
            "Elemento:  36\n",
            "Elemento:  38\n",
            "Elemento:  40\n",
            "Elemento:  42\n",
            "Elemento:  44\n",
            "Elemento:  46\n",
            "Elemento:  48\n",
            "Soma =  600\n",
            "Elemento:  1\n",
            "Elemento:  3\n",
            "Elemento:  5\n",
            "Elemento:  7\n",
            "Elemento:  9\n",
            "Elemento:  11\n",
            "Elemento:  13\n",
            "Elemento:  15\n",
            "Elemento:  17\n",
            "Elemento:  19\n",
            "Elemento:  21\n",
            "Elemento:  23\n",
            "Elemento:  25\n",
            "Elemento:  27\n",
            "Elemento:  29\n",
            "Elemento:  31\n",
            "Elemento:  33\n",
            "Elemento:  35\n",
            "Elemento:  37\n",
            "Elemento:  39\n",
            "Elemento:  41\n",
            "Elemento:  43\n",
            "Elemento:  45\n",
            "Elemento:  47\n",
            "Elemento:  49\n",
            "Soma =  625\n"
          ]
        }
      ]
    },
    {
      "cell_type": "code",
      "source": [
        "# Lista ou Colecao de notas\n",
        "notas= [2.5,9.8,8,9,10,9.5,8.4,4.3]\n",
        "# Acumulador\n",
        "soma=0\n",
        "for nota in notas:\n",
        "  print(\"Nota lida \",nota)\n",
        "  soma = soma+nota\n",
        "  media = soma/len(notas)\n",
        "print('Media = ', media)"
      ],
      "metadata": {
        "colab": {
          "base_uri": "https://localhost:8080/"
        },
        "id": "Z7-_Xn1BGXPp",
        "outputId": "ead62f52-3cff-402d-a0c3-4d9a77838e83"
      },
      "execution_count": 32,
      "outputs": [
        {
          "output_type": "stream",
          "name": "stdout",
          "text": [
            "Nota lida  2.5\n",
            "Nota lida  9.8\n",
            "Nota lida  8\n",
            "Nota lida  9\n",
            "Nota lida  10\n",
            "Nota lida  9.5\n",
            "Nota lida  8.4\n",
            "Nota lida  4.3\n",
            "Media =  7.687499999999999\n"
          ]
        }
      ]
    },
    {
      "cell_type": "code",
      "source": [
        "def saudacao():\n",
        "  print(\"Ola Mundo\")\n",
        "\n",
        "def saudacaoparametro(nome):\n",
        "  print(nome)\n",
        "\n",
        "\n",
        "saudacao()\n",
        "saudacaoparametro(\"Olá Turma\")\n",
        "\n",
        "nome=input(\"Informe o nome\")\n",
        "\n",
        "saudacaoparametro(nome)"
      ],
      "metadata": {
        "colab": {
          "base_uri": "https://localhost:8080/"
        },
        "id": "zTX8DhtaEoDg",
        "outputId": "e713eb38-a858-483c-e780-2046552a2f5a"
      },
      "execution_count": 34,
      "outputs": [
        {
          "output_type": "stream",
          "name": "stdout",
          "text": [
            "Ola Mundo\n",
            "Olá Turma\n",
            "Informe o nomeCarlos\n",
            "Carlos\n"
          ]
        }
      ]
    },
    {
      "cell_type": "code",
      "source": [
        "def maior(x,y):\n",
        "  if x>y:\n",
        "    print(x)\n",
        "  else:\n",
        "    print(y)\n",
        "maior(78,52)"
      ],
      "metadata": {
        "colab": {
          "base_uri": "https://localhost:8080/"
        },
        "id": "XlIwLyiiIhli",
        "outputId": "3da8e63e-6c00-4e32-d9e4-7ad88f7f473b"
      },
      "execution_count": 38,
      "outputs": [
        {
          "output_type": "stream",
          "name": "stdout",
          "text": [
            "78\n"
          ]
        }
      ]
    },
    {
      "cell_type": "code",
      "source": [
        "import os\n",
        "print(os.name)\n",
        "print(os.curdir)\n",
        "#print(os.ev)"
      ],
      "metadata": {
        "colab": {
          "base_uri": "https://localhost:8080/"
        },
        "id": "q-lQAiqcMDJs",
        "outputId": "5603006d-29cf-452f-dde6-b81e323d8471"
      },
      "execution_count": 41,
      "outputs": [
        {
          "output_type": "stream",
          "name": "stdout",
          "text": [
            "posix\n",
            ".\n"
          ]
        }
      ]
    },
    {
      "cell_type": "code",
      "source": [
        "import csv\n",
        "# Dados\n",
        "dt = (('temperatura', 15.0, 'C', '10:40', '2006-12-31'),\n",
        "('peso', 42.5, 'kg', '10:45', '2006-12-31'))\n",
        "# A escrita recebe um objeto do tipo \"file\"\n",
        "out = csv.writer(open('dt.csv', 'w'))\n",
        "# Escrevendo as tuplas no arquivo\n",
        "out.writerows(dt)\n",
        "print(\"Operacao concluida\")"
      ],
      "metadata": {
        "colab": {
          "base_uri": "https://localhost:8080/"
        },
        "id": "PVBcysQMN9jM",
        "outputId": "40ae1619-a057-47a2-b783-75a94d10e955"
      },
      "execution_count": 43,
      "outputs": [
        {
          "output_type": "stream",
          "name": "stdout",
          "text": [
            "Operacao concluida\n",
            "(('temperatura', 15.0, 'C', '10:40', '2006-12-31'), ('peso', 42.5, 'kg', '10:45', '2006-12-31'))\n"
          ]
        }
      ]
    }
  ]
}